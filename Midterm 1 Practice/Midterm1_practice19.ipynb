{
    "cells": [
        {
            "cell_type": "markdown",
            "metadata": {
                "nbgrader": {
                    "grade": false,
                    "locked": true,
                    "solution": false
                },
                "editable": false,
                "deletable": false
            },
            "source": [
                "# Problem 3: Gaussian Na\u00efve Bayes Classification for Predicting Protein Localization Sites\n",
                "\n",
                "_Version 1.2_"
            ]
        },
        {
            "cell_type": "markdown",
            "metadata": {
                "nbgrader": {
                    "grade": false,
                    "locked": true,
                    "solution": false
                },
                "editable": false,
                "deletable": false
            },
            "source": [
                "This notebook concerns a machine learning method called the _(Gaussian) na\u00efve Bayes classifier_. It finds uses in text categorization, spam filters, and biomedicine.\n",
                "\n",
                "In this problem, you'll apply na\u00efve Bayes to the problem of predicting protein localization sites in [E.Coli bacteria](https:\/\/en.wikipedia.org\/wiki\/Escherichia_coli). In essence, the problem is to estimate where particular proteins reside in a cell. If, later on, you want to learn more, see the references at the end of this notebook.\n",
                "\n",
                "This notebook asks you to implement the method using only constructs from basic Python, without auxiliary libraries like `numpy` or `sklearn`."
            ]
        },
        {
            "cell_type": "markdown",
            "metadata": {
                "nbgrader": {
                    "grade": false,
                    "locked": true,
                    "solution": false
                },
                "editable": false,
                "deletable": false
            },
            "source": [
                "## Setup and data\n",
                "\n",
                "You will use a modified version of [a publicly available dataset](https:\/\/archive.ics.uci.edu\/ml\/datasets\/ecoli). Run the code cell below to load this data, whose output we'll explain afterwards."
            ]
        },
        {
            "cell_type": "code",
            "execution_count": null,
            "metadata": {
                "nbgrader": {
                    "grade": false,
                    "locked": true,
                    "solution": false
                },
                "editable": false,
                "deletable": false
            },
            "outputs": [],
            "source": [
                "import math\n",
                "from problem_utils import load_data\n",
                "from pprint import pprint # For pretty-printing Python data structures\n",
                "\n",
                "x_train, y_train, x_test, y_test = load_data('ecoli-mod.mat')\n",
                "\n",
                "print (\"\\nTraining data for first 5 samples:\")\n",
                "pprint(x_train[:5], width=100)\n",
                "print (\"\\nTraining results for first 5 samples:\")\n",
                "print(y_train[:5])\n",
                "print(f\"\\nThe possible class labels are: {set(y_train + y_test)}\")"
            ]
        },
        {
            "cell_type": "markdown",
            "metadata": {
                "nbgrader": {
                    "grade": false,
                    "locked": true,
                    "solution": false
                },
                "editable": false,
                "deletable": false
            },
            "source": [
                "**About these data.** The data is split into _training data_, which you'll use to build a predictive model, and _testing data_, which you'll use to test the accuracy of the model. There are four variables of interest: `x_train` and `y_train`, which hold the training data, and `x_test` and `y_test`, which hold the testing data. More specifically:\n",
                "\n",
                "- `x_train` is a _list of dictionaries_. Each element `x_train[i]` is the `i`-th data point of the training set. The point is represented by a _feature vector_, which is a linear algebraic vector having five components. Each vector is stored as a dictionary, with its components named by the keys `'feature_1'` through `'feature_5'`.\n",
                "\n",
                "- `y_train` is a _list of strings_. Each element `y_train[i]` is a _class label_ for the `i`-th data point. Observe from the output above that there are five possible class labels, `'class_1'` through `'class_5'`.\n",
                "\n",
                "- `x_test` and `y_test` are similar to the above, except that they hold values for the test data. Our goal is to build a model of the training data that can closely predict the true class labels, `y_test`, given only the feature vectors in `x_test`."
            ]
        },
        {
            "cell_type": "markdown",
            "metadata": {
                "nbgrader": {
                    "grade": false,
                    "locked": true,
                    "solution": false
                },
                "editable": false,
                "deletable": false
            },
            "source": [
                "## Background on Bayes' Theorem\n",
                "\n",
                "Recall _Bayes' theorem_ (or Bayes' law or Bayes' rule) from Topic 3. It is a statement about the quantitative relationships among the [conditional probablilities](https:\/\/stats.stackexchange.com\/questions\/239014\/bayes-theorem-intuition) (recall Notebook 2) of several events. One common use of Bayes' theorem is to \"reverse\" a conditional relationship, such as estimating the probability that [rich people are happy](https:\/\/www.quora.com\/What-is-an-intuitive-explanation-of-Bayes-Rule) given knowledge of the probability that a happy person is rich. Another use is to [update one's belief](https:\/\/arbital.com\/p\/bayes_rule\/?l=1zq) using prior knowledge when new information arrives, like updating the probability that a person has cancer when he or she now tests positive, knowing some background information on the accuracy of the test."
            ]
        },
        {
            "cell_type": "markdown",
            "metadata": {
                "nbgrader": {
                    "grade": false,
                    "locked": true,
                    "solution": false
                },
                "editable": false,
                "deletable": false
            },
            "source": [
                "The mathematical statement of Bayes' theorem is\n",
                "\n",
                "$${\\displaystyle P(A\\mid B)={\\frac {P(B\\mid A)P(A)}{P(B)}}},$$\n",
                "\n",
                "where ${\\displaystyle A}$ and ${\\displaystyle B}$ are events and ${\\displaystyle P(B)\\neq 0}$.\n",
                "\n",
                "- ${\\displaystyle P(A\\mid B)}$ is a posterior probability of event ${\\displaystyle A}$ given event ${\\displaystyle B}$, or just **posterior**.\n",
                "- ${\\displaystyle P(B\\mid A)}$ is a conditional probability of event ${\\displaystyle B}$ given event ${\\displaystyle A}$, also called **likelihood**.\n",
                "- ${\\displaystyle P(A)}$ is prior probability of event ${\\displaystyle A}$ independently of ${\\displaystyle B}$, also called just **prior**.\n",
                "- ${\\displaystyle P(B)}$ is the probabilities of observing ${\\displaystyle B}$ independently ${\\displaystyle A}$, also called marginal likelihood or model **evidence**.\n",
                "\n",
                "In words, the formula would be\n",
                "\n",
                "$$ \\text{posterior} \\ = \\ \\frac{\\text{prior} \\times \\text{likelihood}}{\\text{evidence}}.$$\n",
                "\n",
                "You can read more about Bayes' Theorem on its [Wiki page](https:\/\/en.wikipedia.org\/wiki\/Bayes%27_theorem)."
            ]
        },
        {
            "cell_type": "markdown",
            "metadata": {
                "collapsed": true,
                "nbgrader": {
                    "grade": false,
                    "locked": true,
                    "solution": false
                },
                "editable": false,
                "deletable": false
            },
            "source": [
                "## Part 0: The Na\u00efve Bayes Model\n",
                "\n",
                "We can use Bayes' theorem to make predictions not only for toy problems with two events, but also for much more complex problems, such as multinomial classification for data with multiple features. However, finding the likelihood of a multidimensional feature vector given the assigned class can be very hard and even [intractable](https:\/\/en.wikipedia.org\/wiki\/Naive_Bayes_classifier#Probabilistic_model). However, we can greatly simplify the computation if we make a _na\u00efve_ assumption that all the features are conditionally independent. In this case, the probability of observing a class label for a given feature vector becomes\n",
                "\n",
                "$${\\displaystyle p(C_{k}\\mid \\mathbf {x} )={\\frac {p(C_{k})\\ \\prod _{i=1}^{n}p(x_{i}\\mid C_{k})}{p(\\mathbf {x} )}}\\,}$$\n",
                "\n",
                "Moreover, since evidence $p(\\mathbf {x} )$ does not depend on $C$, in practice we can omit it and use the formula\n",
                "\n",
                "$${\\displaystyle {\\begin{aligned}p(C_{k}\\mid \\mathbf {x} )&\\varpropto p(C_{k})\\prod _{i=1}^{n}p(x_{i}\\mid C_{k})\\,\\end{aligned}}} \\tag{1}$$\n",
                "\n",
                "where ${\\displaystyle \\varpropto }$ denotes proportionality."
            ]
        },
        {
            "cell_type": "markdown",
            "metadata": {
                "nbgrader": {
                    "grade": false,
                    "locked": true,
                    "solution": false
                },
                "editable": false,
                "deletable": false
            },
            "source": [
                "**Learning class priors.** Before moving on, let's write a function that computes class priors, $p(C_k)$ using the vector of class assignments. Recall that `y_train` holds the class labels."
            ]
        },
        {
            "cell_type": "markdown",
            "metadata": {
                "nbgrader": {
                    "grade": false,
                    "locked": true,
                    "solution": false
                },
                "editable": false,
                "deletable": false
            },
            "source": [
                "**Exercise 0** (2 points). Write a function `prior(data)` that takes a list of class values as inputs and returns a dictionary containing the priors. In this dictionary, the class names serve as keys and the probability of the occurrence of each class as values.\n",
                "\n",
                "We can find prior of class $K$ simply dividing number of data samples of class $K$ by total number of data samples. For example, if\n",
                "\n",
                "```python\n",
                "data = ['class_1' , 'class_2' , 'class_3' , 'class_4' , 'class_3' , 'class_2' , 'class_1' , 'class_3' ]\n",
                "```\n",
                "\n",
                "then your function should produce the output,\n",
                "\n",
                "```python\n",
                "prior(data) == {'class_1': 0.25,'class_2': 0.25,'class_3': 0.375, 'class_4': 0.125 }\n",
                "```"
            ]
        },
        {
            "cell_type": "code",
            "execution_count": null,
            "metadata": {
                "collapsed": true
            },
            "outputs": [],
            "source": [
                "def prior(data):\n",
                "    assert isinstance(data, list), f\"Input `data` has type `{type(data)}`, which does not derive from `list` as expected.\"\n",
                "    ###\n",
                "    ### YOUR CODE HERE\n",
                "    ###\n"
            ]
        },
        {
            "cell_type": "code",
            "execution_count": null,
            "metadata": {
                "nbgrader": {
                    "grade": true,
                    "grade_id": "test_prior_script",
                    "locked": true,
                    "points": "2",
                    "solution": false
                },
                "scrolled": true,
                "editable": false,
                "deletable": false
            },
            "outputs": [],
            "source": [
                "# Test cell: `test_prior_script`\n",
                "\n",
                "#Test Case 1\n",
                "test_data = ['a1' , 'a2' , 'b1' , 'b2' , 'b1' , 'a2' , 'a1' , 'b1' ]\n",
                "p1 = prior(test_data)\n",
                "p1_test = {'a1': 0.25,'a2': 0.25,'b1': 0.375, 'b2': 0.125 }\n",
                "assert isinstance(p1, dict), f\"Input `p1` has type `{type(p1)}`, which does not derive from `dict` as expected.\"\n",
                "assert p1 == p1_test, f\"The Output for Test Case 1 is incorrect, returned: \\n{p1}\\n, should be: \\n{p1_test}\\n\"\n",
                "\n",
                "#Test Case 2\n",
                "test_data2 = ['a1' , 'a2' , 'b1' , 'b2' , 'b1' , 'a2' , 'a1' , 'b1' , 'a1' , 'a2' , 'b1' , 'b2' , 'b1' , 'a2' , 'a1' , 'b1' , 'a2' , 'a2' , 'b1' , 'b2' , 'b1' , 'c1' , 'a1' , 'b2' , 'a1' , 'b2' , 'b1' , 'c2' , 'b1' , 'a2' , 'a3' , 'b1',  'a3' , 'a2' , 'b4' , 'b2' , 'b1' , 'a2' , 'a1' , 'b1' , 'a3' , 'a2' , 'b1' , 'b2' , 'b1' , 'a2' , 'a3' , 'b2' ]\n",
                "p2 = prior(test_data2)\n",
                "p2_test = {'a1': 0.14583333, 'a2': 0.22916667, 'b1': 0.3125, 'b2': 0.16666667, 'c1': 0.02083333, 'c2': 0.02083333, 'a3': 0.08333333, 'b4': 0.02083333}\n",
                "assert isinstance(p2, dict), f\"Input `p2` has type `{type(p2)}`, which does not derive from `dict` as expected.\"\n",
                "for k in p2_test.keys():\n",
                "    assert math.isclose(p2[k], p2_test[k], abs_tol=1e-8), f\"The Output for Test Case 2 is incorrect, returned: \\n{p2:.8f}\\n, should be: \\n{p2_test}\\n\"\n",
                "\n",
                "print(\"\\n(Passed!)\")"
            ]
        },
        {
            "cell_type": "markdown",
            "metadata": {
                "nbgrader": {
                    "grade": false,
                    "locked": true,
                    "solution": false
                },
                "editable": false,
                "deletable": false
            },
            "source": [
                "Assuming your implementation really is correct, run the code below to inspect the priors for our dataset."
            ]
        },
        {
            "cell_type": "code",
            "execution_count": null,
            "metadata": {
                "nbgrader": {
                    "grade": false,
                    "locked": true,
                    "solution": false
                },
                "editable": false,
                "deletable": false
            },
            "outputs": [],
            "source": [
                "prior_val = prior(y_train)\n",
                "print(\"\\nClass Priors:\")\n",
                "print(prior_val)"
            ]
        },
        {
            "cell_type": "markdown",
            "metadata": {
                "collapsed": true,
                "nbgrader": {
                    "grade": false,
                    "locked": true,
                    "solution": false
                },
                "editable": false,
                "deletable": false
            },
            "source": [
                "## Part 1: The Gaussian Na\u00efve Bayes model\n",
                "\n",
                "In real problems we often do not know the true underlying data distributions. Instead, we estimate them from the data, often assuming the form (but not the parameters) of the data distribution.\n",
                "\n",
                "When dealing with continuous data, a typical assumption is that any continuous values associated with each class are distributed according to a [normal (or Gaussian) distribution](https:\/\/en.wikipedia.org\/wiki\/Normal_distribution). Under this assumption, the likelihood is\n",
                "\n",
                "$${\\displaystyle p(x=f_i\\mid C_{k})= N(f_i;\u00b5_{i,k},\u03c3_{i,k}^2)}$$\n",
                "\n",
                "$${\\displaystyle p(x=f_i\\mid C_{k})={\\frac {1}{\\sqrt {2\\pi \\sigma _{i,k}^{2}}}}\\, \\exp\\left({-{\\frac {(f_i-\\mu _{i,k})^{2}}{2\\sigma _{i,k}^{2}}}}\\right)} \\tag{2}$$\n",
                "\n",
                "where $\u00b5_{i,k}$ is the mean of feature $f_i$ and $\u03c3_{i,k}^2$ is its variance."
            ]
        },
        {
            "cell_type": "markdown",
            "metadata": {
                "nbgrader": {
                    "grade": false,
                    "locked": true,
                    "solution": false
                },
                "editable": false,
                "deletable": false
            },
            "source": [
                "**Exercise 1.a** (1 point). Write two functions, `mean(vector)` and `var(vector)`, to compute the mean and variance of the components of an input vector, respectively. The vector, `vector`, is given as a list of values and you need to return the mean and variance of those values.\n",
                "\n",
                "Recall that the mean and variance are defined by\n",
                "\n",
                "$$ \\mathbf {mean}(\\mathbf {x}) = \\mu(\\mathbf {x})= \\frac{1}{n}\\sum_{i=1}^n{x_i} \\quad \\mbox{and} \\quad\n",
                "\\mathbf {var}(\\mathbf {x}) = \\frac{1}{n} \\sum_{i=1}^n (x_i - \\mu)^2.\n",
                "$$\n",
                "\n",
                "For example, suppose `vector = [1, 2, 3]`. Then,\n",
                "\n",
                "```python\n",
                "mean([1, 2, 3]) = 2.0 \n",
                "var([1, 2, 3]) = 0.66666667\n",
                "```\n",
                "\n",
                "In the context of our problem, these functions would be helpful while implementing equation (2). "
            ]
        },
        {
            "cell_type": "code",
            "execution_count": null,
            "metadata": {
                "collapsed": true
            },
            "outputs": [],
            "source": [
                "def mean(vector):\n",
                "    ###\n",
                "    ### YOUR CODE HERE\n",
                "    ###\n",
                "\n",
                "def var(vector):\n",
                "    ###\n",
                "    ### YOUR CODE HERE\n",
                "    ###\n"
            ]
        },
        {
            "cell_type": "code",
            "execution_count": null,
            "metadata": {
                "nbgrader": {
                    "grade": true,
                    "grade_id": "test_mean_var",
                    "locked": true,
                    "points": "1",
                    "solution": false
                },
                "editable": false,
                "deletable": false
            },
            "outputs": [],
            "source": [
                "# Test cell: `test_mean_var`\n",
                "\n",
                "#Test Case 1\n",
                "l = [1.0 , 5.272 , 6.2734 , 32.4824 , 8.2876 , 43.3242 ]\n",
                "m = mean(l)\n",
                "v = var(l)\n",
                "assert isinstance(m, float), f\"Input `m` has type `{type(m)}`, which does not derive from `float` as expected.\"\n",
                "assert isinstance(v, float), f\"Input `v` has type `{type(v)}`, which does not derive from `float` as expected.\"\n",
                "assert math.isclose(m, 16.1066, abs_tol=1e-8), f\"Test Case 1 for Mean Failed as `{m:.8f}` != 16.1066\"\n",
                "assert math.isclose(v, 252.06517989, abs_tol=1e-8), f\"Test Case 1 for Variance Failed as `{v:.8f}` != 252.06517989\"\n",
                "\n",
                "#Test Case 2\n",
                "l1 = [11.0423 , 6.34324 , 7.347234 , 426.244 , 247. , 232.4332476 , 9. , 9. ,9. , -3.432 , 0. , -34.234 ]\n",
                "m1 = mean(l1)\n",
                "v1 = var(l1)\n",
                "assert isinstance(m1, float), f\"Input `m` has type `{type(m1)}`, which does not derive from `float` as expected.\"\n",
                "assert isinstance(v1, float), f\"Input `v` has type `{type(v1)}`, which does not derive from `float` as expected.\"\n",
                "assert math.isclose(m1, 76.64533513, abs_tol=1e-8), f\"Test Case 2 for Mean Failed as `{m1:.8f}` != 76.64533513\"\n",
                "assert math.isclose(v1, 18988.91413866, abs_tol=1e-8), f\"Test Case 2 for Variance Failed as `{v1:.8f}` != 18988.91413866\"\n",
                "\n",
                "print(\"\\n(Passed!)\")"
            ]
        },
        {
            "cell_type": "markdown",
            "metadata": {
                "collapsed": true,
                "nbgrader": {
                    "grade": false,
                    "locked": true,
                    "solution": false
                },
                "editable": false,
                "deletable": false
            },
            "source": [
                "**Exercise 1.b** (2 points). Using `mean(l)` and `var(l)`, implement a function, `likelihood(x, y)`, to compute the parameters of the Gaussian likelihood of the data, `x` and `y`.\n",
                "\n",
                "In particular, the input `x` is a list of dictionaries containing feature vectors (e.g., `x_train` from the training data) and `y` is a list of class labels (e.g., `y_train`). The output is a _pair of dictionaries of dictionaries_ (yikes!!), one holding means and the other variances. It's easiest to understand the inputs and outputs by example, so let's start there.\n",
                "\n",
                "Suppose the inputs `x` and `y` correspond to four data points, where the feature vectors have three components and there are two distinct class labels:\n",
                "\n",
                "```python\n",
                "x = [{'feature_1': 0.58, 'feature_2': 0.55, 'feature_3': 0.57},\n",
                "     {'feature_1': 0.38, 'feature_2': 0.44, 'feature_3': 0.43},\n",
                "     {'feature_1': 0.29, 'feature_2': 0.28, 'feature_3': 0.5},\n",
                "     {'feature_1': 0.98, 'feature_2': 0.74, 'feature_3': 0.32}] \n",
                "y = ['class_1', 'class_2', 'class_1', 'class_2']\n",
                "```\n",
                "\n",
                "Your function should return two outputs,\n",
                "\n",
                "```python\n",
                "#Note: The result is spread out in different lines to provide more clarity\n",
                "dist_mean, dist_var = likelihood(x_train, y_train)\n",
                "```\n",
                "\n",
                "where\n",
                "\n",
                "```python\n",
                "# Dictionary corresponding to Mean of each feature in a particular class. \n",
                "dist_mean == {'class_1': {'feature_1': 0.435, 'feature_2': 0.415, 'feature_3': 0.535},\n",
                "              'class_2': {'feature_1': 0.680, 'feature_2': 0.59, 'feature_3': 0.375}}\n",
                "\n",
                "# Dictionary corresponding to Variance of each feature in a particular class.\n",
                "dist_var == {'class_2': {'feature_1': 0.09, 'feature_2': 0.0225, 'feature_3': 0.003025},\n",
                "             'class_1': {'feature_1': 0.021025, 'feature_2': 0.018225, 'feature_3': 0.001225}}\n",
                "```\n",
                "\n",
                "Consider `dist_mean`. It is a dictionary whose keys are class labels and whose values are _mean_ feature vectors. For instance, consider the vectors for the `'class_1'` data points in `x`. In the `'feature_1'` component, the values that occur are 0.58 and 0.29; therefore, `dist_mean['class_1']['feature_1'] == (0.58 + 0.29) \/ 2 == 0.435`.\n",
                "\n",
                "In the function you are to complete, below, we've created two empty dictionaries to hold your results and return them. You need to supply the code that populates them."
            ]
        },
        {
            "cell_type": "code",
            "execution_count": null,
            "metadata": {
                "collapsed": true
            },
            "outputs": [],
            "source": [
                "def likelihood(x, y):\n",
                "    dist_mean = {}\n",
                "    dist_var = {}\n",
                "    ###\n",
                "    ### YOUR CODE HERE\n",
                "    ###\n",
                "    return dist_mean, dist_var"
            ]
        },
        {
            "cell_type": "code",
            "execution_count": null,
            "metadata": {
                "nbgrader": {
                    "grade": true,
                    "grade_id": "test_likelihood",
                    "locked": true,
                    "points": "2",
                    "solution": false
                },
                "editable": false,
                "deletable": false
            },
            "outputs": [],
            "source": [
                "# Test cell: `test_likelihood`\n",
                "\n",
                "#Test Case 1\n",
                "training_data = [{'feature_1': 0.58, 'feature_2': 0.55, 'feature_3': 0.57, 'feature_4': 0.7, 'feature_5': 0.74},{'feature_1': 0.38, 'feature_2': 0.44, 'feature_3': 0.43, 'feature_4': 0.2, 'feature_5': 0.31},{'feature_1': 0.29, 'feature_2': 0.28, 'feature_3': 0.5, 'feature_4': 0.42, 'feature_5': 0.5},{'feature_1': 0.98, 'feature_2': 0.74, 'feature_3': 0.32, 'feature_4': 0.25, 'feature_5': 0.11},{'feature_1': 0.08, 'feature_2': 0.69, 'feature_3': 0.84, 'feature_4': 0.85, 'feature_5': 0.17} ] \n",
                "\n",
                "training_result = ['class_1' , 'class_2' , 'class_1' , 'class_2','class_2']\n",
                "\n",
                "mean1, var1 = likelihood(training_data, training_result)\n",
                "assert isinstance(mean1, dict), f\"Input `mean1` has type `{type(mean1)}`, which does not derive from `dict` as expected.\"\n",
                "assert isinstance(var1, dict), f\"Input `var1` has type `{type(var1)}`, which does not derive from `dict` as expected.\"\n",
                "mean1_test = {'class_1': {'feature_1': 0.435, 'feature_2': 0.415, 'feature_3': 0.535, 'feature_4': 0.56, 'feature_5': 0.62},'class_2': {'feature_1': 0.48, 'feature_2': 0.62333333, 'feature_3': 0.53, 'feature_4': 0.43333333, 'feature_5': 0.19666667}}\n",
                "var1_test = {'class_1': {'feature_1': 0.021025, 'feature_2': 0.018225, 'feature_3': 0.001225, 'feature_4': 0.0196, 'feature_5': 0.0144},'class_2': {'feature_1': 0.14, 'feature_2': 0.01722222, 'feature_3': 0.05006667, 'feature_4': 0.08722222, 'feature_5': 0.00702222}}\n",
                "\n",
                "for cl in mean1_test.keys():\n",
                "    for f in mean1_test[cl].keys():\n",
                "        assert math.isclose(mean1[cl][f], mean1_test[cl][f], abs_tol=1e-8), f\"The Output for Test Case 1 is incorrect, returned: \\n{mean1:.8f}\\n, should be: \\n{mean1_test}\\n\"\n",
                "for cl in var1_test.keys():\n",
                "    for f in var1_test[cl].keys():\n",
                "        assert math.isclose(var1[cl][f], var1_test[cl][f], abs_tol=1e-8), f\"The Output for Test Case 1 is incorrect, returned: \\n{var1:.8f}\\n, should be: \\n{var1_test}\\n\"\n",
                "\n",
                "#Test Case 2\n",
                "training_data2 = [{'feature_1': 0.9238, 'feature_2': 0.34, 'feature_3': 0.57, 'feature_4': 0.7, 'feature_5': 0.747},{'feature_1': 0.3842, 'feature_2': 0.4234, 'feature_3': 0.2343, 'feature_4': 0.2, 'feature_5': 0.331},{'feature_1': 0.2129, 'feature_2': 0.0228, 'feature_3': 0.425, 'feature_4': 0.835, 'feature_5': 0.587}] \n",
                "\n",
                "training_result2 = ['class_1' , 'class_2' , 'class_1']\n",
                "\n",
                "mean2, var2 = likelihood(training_data2, training_result2)\n",
                "assert isinstance(mean2, dict), f\"Input `mean2` has type `{type(mean2)}`, which does not derive from `dict` as expected.\"\n",
                "assert isinstance(var2, dict), f\"Input `var2` has type `{type(var2)}`, which does not derive from `dict` as expected.\"\n",
                "mean2_test = {'class_1': {'feature_1': 0.56835, 'feature_2': 0.1814, 'feature_3': 0.4975, 'feature_4': 0.7675, 'feature_5': 0.667},'class_2': {'feature_1': 0.3842, 'feature_2': 0.4234, 'feature_3': 0.2343, 'feature_4': 0.2, 'feature_5': 0.331} }\n",
                "var2_test = {'class_1': {'feature_1': 0.1263447, 'feature_2': 0.02515396, 'feature_3': 0.00525625, 'feature_4': 0.00455625, 'feature_5': 0.0064},'class_2': {'feature_1': 0.0, 'feature_2': 0.0, 'feature_3': 0.0, 'feature_4': 0.0, 'feature_5': 0.0}}\n",
                "\n",
                "for cl in mean2_test.keys():\n",
                "    for f in mean2_test[cl].keys():\n",
                "        assert math.isclose(mean2[cl][f], mean2_test[cl][f], abs_tol=1e-8), f\"The Output for Test Case 2 is incorrect, returned: \\n{mean2:.8f}\\n, should be: \\n{mean2_test}\\n\"\n",
                "for cl in var2_test.keys():\n",
                "    for f in var2_test[cl].keys():\n",
                "        assert math.isclose(var2[cl][f], var2_test[cl][f], abs_tol=1e-8), f\"The Output for Test Case 2 is incorrect, returned: \\n{var2:.8f}\\n, should be: \\n{var2_test}\\n\"\n",
                "\n",
                "print(\"\\n(Passed!)\")"
            ]
        },
        {
            "cell_type": "markdown",
            "metadata": {
                "nbgrader": {
                    "grade": false,
                    "locked": true,
                    "solution": false
                },
                "editable": false,
                "deletable": false
            },
            "source": [
                "**Inspecting the results.** Now that you have successfully defined the function to calculate the likelihood, let us see the output of the function. We have also provided a helper function for pretty printing the mean and variance dictionaries."
            ]
        },
        {
            "cell_type": "code",
            "execution_count": null,
            "metadata": {
                "collapsed": true,
                "nbgrader": {
                    "grade": false,
                    "locked": true,
                    "solution": false
                },
                "editable": false,
                "deletable": false
            },
            "outputs": [],
            "source": [
                "# Helper function for pretty printing the Mean and Variance dictionaries.\n",
                "def pretty_print_mean_var(m,v):\n",
                "    \n",
                "    # Convert the contents of a dictionary to be used for displaying in a user friendly manner.\n",
                "    def formatted_dict(d):\n",
                "        import json\n",
                "        return json.dumps(d,sort_keys=True,indent=4)\n",
                "        \n",
                "    print(\"\\nPretty Printing Output:\")\n",
                "    print(\"Mean:\\n\",formatted_dict(m))\n",
                "    print(\"Variance:\\n\",formatted_dict(v))"
            ]
        },
        {
            "cell_type": "code",
            "execution_count": null,
            "metadata": {
                "nbgrader": {
                    "grade": false,
                    "locked": true,
                    "solution": false
                },
                "editable": false,
                "deletable": false
            },
            "outputs": [],
            "source": [
                "dist_mean, dist_var = likelihood(x_train,y_train)\n",
                "\n",
                "print(\"\\nOriginal Output:\\n\")\n",
                "print(\"Mean:\\n\",dist_mean)\n",
                "print(\"Variance:\\n\",dist_var)\n",
                "\n",
                "pretty_print_mean_var(dist_mean,dist_var)"
            ]
        },
        {
            "cell_type": "markdown",
            "metadata": {
                "nbgrader": {
                    "grade": false,
                    "locked": true,
                    "solution": false
                },
                "editable": false,
                "deletable": false
            },
            "source": [
                "Great Work! Now that we have computed the conditional mean and variance, we can finally move onto the core part of the algorithm."
            ]
        },
        {
            "cell_type": "markdown",
            "metadata": {
                "nbgrader": {
                    "grade": false,
                    "locked": true,
                    "solution": false
                },
                "editable": false,
                "deletable": false
            },
            "source": [
                "## Part 2: Gaussian Na\u00efve Bayes Classifier\n",
                "\n",
                "The Na\u00efve Bayes classifier combines the Na\u00efve Bayes model with a _decision rule_, meaning a scheme that decides what label to assign to a given feature vector.\n",
                "\n",
                "One common rule is to pick the hypothesis that is most probable. This approach is known as the _maximum a posteriori_ or MAP decision rule. The corresponding _Bayes classifier_ assigns a class label ${\\displaystyle {\\hat {y}}=C_{k}}$ for some $k$ as follows:\n",
                "\n",
                "$${\\displaystyle {\\hat {y}}={\\underset {k\\in \\{1,\\dots ,K\\}}{\\operatorname {argmax} }}\\ p(C_{k})\\displaystyle \\prod _{i=1}^{n}p(f_{i}\\mid C_{k}).} \\tag{3}$$\n",
                "\n",
                "Unfortunately, an \"obvious\" implementation of this rule can have numerical instabilities because it requires multiplying exponentials with very different numerical ranges. Moreover, we can end up with very small numbers, which reduce accuracy and computation performance. To avoid these issues, can instead take argmax of _logarithm_ of the posterior, which is more stable and produces the same result. (Recall Problem 9 of the Practice Problems Midterm 1!) Applying $\\log$ to equation (3) yields\n",
                "\n",
                "$${\\displaystyle {\\hat {y}} = {\\underset {k\\in \\{1,\\dots ,K\\}}{\\operatorname {argmax} }}\\log \\left( p(C_{k})\\displaystyle \\prod _{i=1}^{n}p(f_{i}\\mid C_{k}) \\right) = {\\underset {k\\in \\{1,\\dots ,K\\}}{\\operatorname {argmax} }}\\ \\log p(C_{k}) +\\displaystyle \\sum _{i=1}^{n}\\log p(f_{i}\\mid C_{k})} \\tag{4}.$$"
            ]
        },
        {
            "cell_type": "markdown",
            "metadata": {
                "nbgrader": {
                    "grade": false,
                    "locked": true,
                    "solution": false
                },
                "editable": false,
                "deletable": false
            },
            "source": [
                "You already wrote code to compute $p(C_k)$, so now let's work on the second term of (4), the log-likelihood."
            ]
        },
        {
            "cell_type": "markdown",
            "metadata": {
                "nbgrader": {
                    "grade": false,
                    "locked": true,
                    "solution": false
                },
                "editable": false,
                "deletable": false
            },
            "source": [
                "**Computing log-likelihood of a single class.** The rightmost sum of equation (4) above is **log-likelihood.** In particular, it is the logarithm of likelihood of class $k$ given the feature vector $\\mathbf{f}$.\n",
                "\n",
                "To discern its mathematical form, suppose we substitute equation (2) into the log-likelihood term. Then,\n",
                "\n",
                "$$ L(\\mathbf {f} \\mid C_{k}) =  \\sum _{i=1}^{n}\\log p(f_{i}\\mid C_{k}) = \\sum _{i=1}^{n} \\log \\left( {\\frac {1}{\\sqrt {2\\pi \\sigma _{i,k}^{2}}}}\\,\\exp\\left(-{\\frac {(f_i-\\mu _{i,k})^{2}}{2\\sigma _{i,k}^{2}}}\\right) \\right) = \n",
                "\\sum _{i=1}^{n} \\left( -0.5 \\log (2 \\pi \\sigma _{i,k}^{2}) - 0.5 \\frac {(f_i-\\mu _{i,k})^{2}}{\\sigma _{i,k}^{2}} \\right) $$\n"
            ]
        },
        {
            "cell_type": "markdown",
            "metadata": {
                "nbgrader": {
                    "grade": false,
                    "locked": true,
                    "solution": false
                },
                "editable": false,
                "deletable": false
            },
            "source": [
                "**Exercise 2.a** (1 point). Complete the `log_likelihood(x, m, v)` function, below. The inputs are:\n",
                "\n",
                "- `x`, a feature vector $\\mathbf{f}$ of **one** data point from, say, `x_test`, which you'll recall is a dictionary with features as keys and scores as values;\n",
                "- `m`, a dictionary of means $\\mu _{i,k}$ for a single class $k$, with features as keys and their mean scores as values.\n",
                "- `v` is a dictionary of variances $\\sigma _{i,k}^{2}$ for a single class $k$, with features as keys and the variance of their scores as values."
            ]
        },
        {
            "cell_type": "code",
            "execution_count": null,
            "metadata": {
                "collapsed": true
            },
            "outputs": [],
            "source": [
                "def log_likelihood(x, m, v):\n",
                "    ###\n",
                "    ### YOUR CODE HERE\n",
                "    ###\n"
            ]
        },
        {
            "cell_type": "code",
            "execution_count": null,
            "metadata": {
                "nbgrader": {
                    "grade": true,
                    "grade_id": "test_logprob",
                    "locked": true,
                    "points": "1",
                    "solution": false
                },
                "editable": false,
                "deletable": false
            },
            "outputs": [],
            "source": [
                "# Test cell: `test_logprob`\n",
                "\n",
                "#Test Case 1\n",
                "training_data = {'feature_1': 0.58, 'feature_2': 0.55, 'feature_3': 0.57, 'feature_4': 0.7, 'feature_5': 0.74}\n",
                "mean1_test = {'feature_1': 0.435, 'feature_2': 0.415, 'feature_3': 0.535, 'feature_4': 0.56, 'feature_5': 0.62}\n",
                "var1_test = {'feature_1': 0.021025, 'feature_2': 0.018225, 'feature_3': 0.001225, 'feature_4': 0.0196, 'feature_5': 0.0144}\n",
                "\n",
                "res1 = log_likelihood(training_data,mean1_test,var1_test)\n",
                "assert math.isclose(res1, 4.277592981147556, abs_tol=1e-8), f\"The Output for Test Case 1 is incorrect, returned: \\n{res1:.8f}\\n, should be: \\n{4.277592981147556}\\n\"\n",
                "\n",
                "#Test Case 2\n",
                "training_data2 = {'feature_1': 0.9238, 'feature_2': 0.34, 'feature_3': 0.57, 'feature_4': 0.7, 'feature_5': 0.747}\n",
                "mean2_test = {'feature_1': 0.56835, 'feature_2': 0.1814, 'feature_3': 0.4975, 'feature_4': 0.7675, 'feature_5': 0.667}\n",
                "var2_test = {'feature_1': 0.1263447, 'feature_2': 0.02515396, 'feature_3': 0.00525625, 'feature_4': 0.00455625, 'feature_5': 0.0064}\n",
                "\n",
                "res2 = log_likelihood(training_data2,mean2_test,var2_test)\n",
                "assert math.isclose(res2, 3.6265730328980883, abs_tol=1e-8), f\"The Output for Test Case 2 is incorrect, returned: \\n{res2:.8f}\\n, should be: \\n{3.6265730328980883}\\n\"\n",
                "\n",
                "print(\"\\n(Passed!)\")"
            ]
        },
        {
            "cell_type": "markdown",
            "metadata": {
                "nbgrader": {
                    "grade": false,
                    "locked": true,
                    "solution": false
                },
                "editable": false,
                "deletable": false
            },
            "source": [
                "**Implementing Gaussian Naive Bayes classifier.** You now have everything you need to implement the Gaussian na\u00efve Bayes classifier from equation (4).\n",
                "\n",
                "$${\\displaystyle {\\hat {y}} = {\\underset {k\\in \\{1,\\dots ,K\\}}{\\operatorname {argmax} }}\\ \\log p(C_{k}) +\\displaystyle \\sum _{i=1}^{n}\\log p(f_{i}\\mid C_{k})} \\tag{4}$$\n",
                "\n",
                "In particular, recall that you have written these functions:\n",
                "- `prior()`, which returns **prior** for each class $C_k$;\n",
                "- `likelihood`, which returns **mean** and **variance** parameters for likelihood distributed as Gaussian;\n",
                "- and `log_likelihood`, which returns the logarithm of likelihood for Gaussian with given **mean** and **variance**.\n",
                "\n",
                "Let's now implement a function, `naive_bayes_classifier`, so that it returns a class prediction for testing features $\\mathbf{x}$ given **mean** and **variance** parameters for the likelihood and **prior** vector for classes. "
            ]
        },
        {
            "cell_type": "markdown",
            "metadata": {
                "nbgrader": {
                    "grade": false,
                    "locked": true,
                    "solution": false
                },
                "editable": false,
                "deletable": false
            },
            "source": [
                "**Exercise 2.b** (4 points: 2 points \"exposed\" and 2 points hidden).\n",
                "\n",
                "Complete `naive_bayes_classifier(x, dist_mean, dist_var, prior)` function, using the `log_likelihood()` function and equation (4). Here the inputs are\n",
                "\n",
                "- `x`, which is a full list of test samples (e.g., `x == x_test`);\n",
                "- `dist_mean` and `dist_var`, which are the results of a call to `likelihood()`;\n",
                "- and `prior()`, which is a dict of class priors as returned by a call to `prior()`.\n",
                "\n",
                "Your function should return a _list of strings_. Each element in the list would be the _predicted class label_ for the i-th data point in the `x_test` test sample. For additional reference, the output of the function should be similar to the contents of the _list_ of class labels in `y_train`."
            ]
        },
        {
            "cell_type": "code",
            "execution_count": null,
            "metadata": {
                "collapsed": true
            },
            "outputs": [],
            "source": [
                "def naive_bayes_classifier(x_test, dist_mean, dist_var, prior):\n",
                "    y_pred = []\n",
                "    ###\n",
                "    ### YOUR CODE HERE\n",
                "    ###\n",
                "    return y_pred"
            ]
        },
        {
            "cell_type": "code",
            "execution_count": null,
            "metadata": {
                "nbgrader": {
                    "grade": true,
                    "grade_id": "test_nbclassifier_1",
                    "locked": true,
                    "points": "2",
                    "solution": false
                },
                "editable": false,
                "deletable": false
            },
            "outputs": [],
            "source": [
                "# Test cell: `test_nbclassifier_1`\n",
                "\n",
                "#Test Case 1\n",
                "nb_test_data_1 = [{'feature_1': 0.58, 'feature_2': 0.55, 'feature_3': 0.57, 'feature_4': 0.7, 'feature_5': 0.74},\n",
                "                  {'feature_1': 0.38, 'feature_2': 0.44, 'feature_3': 0.43, 'feature_4': 0.2, 'feature_5': 0.31},\n",
                "                  {'feature_1': 0.29, 'feature_2': 0.28, 'feature_3': 0.5, 'feature_4': 0.42, 'feature_5': 0.5},\n",
                "                  {'feature_1': 0.98, 'feature_2': 0.74, 'feature_3': 0.32, 'feature_4': 0.25, 'feature_5': 0.11},\n",
                "                  {'feature_1': 0.08, 'feature_2': 0.69, 'feature_3': 0.84, 'feature_4': 0.85, 'feature_5': 0.17} ] \n",
                "\n",
                "nb_p1 = {'class_1': 0.4, 'class_2': 0.6}\n",
                "nb_m1 = {'class_1': {'feature_1': 0.43499999999999994, 'feature_2': 0.41500000000000004, 'feature_3': 0.5349999999999999, 'feature_4': 0.5599999999999999, 'feature_5': 0.62}, 'class_2': {'feature_1': 0.48, 'feature_2': 0.6233333333333333, 'feature_3': 0.5299999999999999, 'feature_4': 0.43333333333333335, 'feature_5': 0.19666666666666666}}\n",
                "nb_v1 = {'class_1': {'feature_1': 0.021024999999999995, 'feature_2': 0.018225, 'feature_3': 0.0012249999999999982, 'feature_4': 0.019599999999999996, 'feature_5': 0.0144}, 'class_2': {'feature_1': 0.13999999999999999, 'feature_2': 0.01722222222222222, 'feature_3': 0.050066666666666655, 'feature_4': 0.08722222222222221, 'feature_5': 0.007022222222222222}}\n",
                "\n",
                "pred1 = naive_bayes_classifier(nb_test_data_1, nb_m1, nb_v1, nb_p1)\n",
                "assert pred1, f\"The resultant list for Test Case 1 is empty.\"\n",
                "pred_test1 = [\"class_1\",\"class_2\",\"class_1\",\"class_2\",\"class_2\"]\n",
                "\n",
                "for n, x in enumerate (pred1):\n",
                "    assert x == pred_test1[n], \"The result for Test Case 1 is incorrect\" \n",
                "    \n",
                "print(\"\\n(Passed!)\")"
            ]
        },
        {
            "cell_type": "code",
            "execution_count": null,
            "metadata": {
                "nbgrader": {
                    "grade": true,
                    "grade_id": "test_nbclassifier_2",
                    "locked": true,
                    "points": "2",
                    "solution": false
                },
                "editable": false,
                "deletable": false
            },
            "outputs": [],
            "source": [
                "# Test cell: `test_nbclassifier_2`\n",
                "\n",
                "print(\"\"\"\n",
                "This test cell will be replaced with one hidden test case.\n",
                "You will only know the result after submitting to the autograder.\n",
                "If the autograder times out, then either your solution is highly\n",
                "inefficient or contains a bug (e.g., an infinite loop).\n",
                "\"\"\")\n",
                "\n",
                "###\n",
                "### AUTOGRADER TEST - DO NOT REMOVE\n",
                "###\n"
            ]
        },
        {
            "cell_type": "markdown",
            "metadata": {
                "nbgrader": {
                    "grade": false,
                    "locked": true,
                    "solution": false
                },
                "editable": false,
                "deletable": false
            },
            "source": [
                "## Summary (no additional exercises beyond this point)"
            ]
        },
        {
            "cell_type": "markdown",
            "metadata": {
                "nbgrader": {
                    "grade": false,
                    "locked": true,
                    "solution": false
                },
                "editable": false,
                "deletable": false
            },
            "source": [
                "If you've completed the above, you have implemented a Gaussian na\u00efve Bayes classifier! The remaining cells run your classifier and assess its accuracy."
            ]
        },
        {
            "cell_type": "code",
            "execution_count": null,
            "metadata": {
                "nbgrader": {
                    "grade": false,
                    "locked": true,
                    "solution": false
                },
                "editable": false,
                "deletable": false
            },
            "outputs": [],
            "source": [
                "print(\"Naive Bayes Classifier Output:\\n\")\n",
                "nb_result = naive_bayes_classifier(x_test, dist_mean, dist_var, prior_val)\n",
                "print(nb_result)\n",
                "\n",
                "print(\"\\nPretty Printing to display only the class number: \\n\")\n",
                "pred = [int(s[-1]) for s in nb_result]\n",
                "print(pred)"
            ]
        },
        {
            "cell_type": "markdown",
            "metadata": {
                "nbgrader": {
                    "grade": false,
                    "locked": true,
                    "solution": false
                },
                "editable": false,
                "deletable": false
            },
            "source": [
                "And finally, below you can see accuracy of our classifier, as well as its per-class statistics."
            ]
        },
        {
            "cell_type": "code",
            "execution_count": null,
            "metadata": {
                "nbgrader": {
                    "grade": false,
                    "locked": true,
                    "solution": false
                },
                "editable": false,
                "deletable": false
            },
            "outputs": [],
            "source": [
                "from problem_utils import assess_accuracy\n",
                "assess_accuracy('ecoli-mod.mat', pred)"
            ]
        },
        {
            "cell_type": "markdown",
            "metadata": {
                "nbgrader": {
                    "grade": false,
                    "locked": true,
                    "solution": false
                },
                "editable": false,
                "deletable": false
            },
            "source": [
                "**Fin!** Remember to test your solutions by running them as the autograder will: restart the kernel and run all cells from \"top-to-bottom.\" Also remember to submit to the autograder; otherwise, you will not get credit for your hard work!"
            ]
        }
    ],
    "metadata": {
        "kernelspec": {
            "display_name": "Python 3 [3.6]",
            "language": "python",
            "name": "python3"
        },
        "language_info": {
            "codemirror_mode": {
                "name": "ipython",
                "version": 3
            },
            "file_extension": ".py",
            "mimetype": "text\/x-python",
            "name": "python",
            "nbconvert_exporter": "python",
            "pygments_lexer": "ipython3",
            "version": "3.6.4"
        }
    },
    "nbformat": 4,
    "nbformat_minor": 2
}